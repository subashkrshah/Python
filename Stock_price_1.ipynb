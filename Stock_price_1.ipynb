{
  "nbformat": 4,
  "nbformat_minor": 0,
  "metadata": {
    "colab": {
      "name": "Stock price 1.ipynb",
      "provenance": [],
      "include_colab_link": true
    },
    "kernelspec": {
      "name": "python3",
      "display_name": "Python 3"
    }
  },
  "cells": [
    {
      "cell_type": "markdown",
      "metadata": {
        "id": "view-in-github",
        "colab_type": "text"
      },
      "source": [
        "<a href=\"https://colab.research.google.com/github/subashkrshah/Python/blob/master/Stock_price_1.ipynb\" target=\"_parent\"><img src=\"https://colab.research.google.com/assets/colab-badge.svg\" alt=\"Open In Colab\"/></a>"
      ]
    },
    {
      "cell_type": "code",
      "metadata": {
        "id": "uUIiLSpBeOfd",
        "colab_type": "code",
        "colab": {}
      },
      "source": [
        "# Description: This program uses an artificial recurrent neural network called Long Short Term Memory (LSTM)\n",
        "#              to predict the closing stock price of a corporation (Apple Inc.) using the past 60 day stock price."
      ],
      "execution_count": 0,
      "outputs": []
    },
    {
      "cell_type": "code",
      "metadata": {
        "id": "qgHWBOp-gDMn",
        "colab_type": "code",
        "colab": {
          "base_uri": "https://localhost:8080/",
          "height": 79
        },
        "outputId": "0765445e-d9a4-4103-c336-4677cc42ef7e"
      },
      "source": [
        "#Import the libraries\n",
        "import math\n",
        "import pandas_datareader as web\n",
        "import numpy as np\n",
        "import pandas as pd\n",
        "from sklearn.preprocessing import MinMaxScaler\n",
        "from keras.models import Sequential\n",
        "from keras.layers import Dense, LSTM\n",
        "import matplotlib.pyplot as plt\n",
        "plt.style.use('fivethirtyeight')\n"
      ],
      "execution_count": 4,
      "outputs": [
        {
          "output_type": "stream",
          "text": [
            "Using TensorFlow backend.\n"
          ],
          "name": "stderr"
        },
        {
          "output_type": "display_data",
          "data": {
            "text/html": [
              "<p style=\"color: red;\">\n",
              "The default version of TensorFlow in Colab will soon switch to TensorFlow 2.x.<br>\n",
              "We recommend you <a href=\"https://www.tensorflow.org/guide/migrate\" target=\"_blank\">upgrade</a> now \n",
              "or ensure your notebook will continue to use TensorFlow 1.x via the <code>%tensorflow_version 1.x</code> magic:\n",
              "<a href=\"https://colab.research.google.com/notebooks/tensorflow_version.ipynb\" target=\"_blank\">more info</a>.</p>\n"
            ],
            "text/plain": [
              "<IPython.core.display.HTML object>"
            ]
          },
          "metadata": {
            "tags": []
          }
        }
      ]
    },
    {
      "cell_type": "code",
      "metadata": {
        "id": "uRWZYh7dljh7",
        "colab_type": "code",
        "colab": {
          "base_uri": "https://localhost:8080/",
          "height": 431
        },
        "outputId": "7ef630cc-95b9-4919-896d-b2dd237a0517"
      },
      "source": [
        "#Get the stock quote\n",
        "df = web.DataReader('AAPL', data_source='yahoo', start='2012-01-01', end='2019-12-17')\n",
        "#Show teh data\n",
        "df"
      ],
      "execution_count": 5,
      "outputs": [
        {
          "output_type": "execute_result",
          "data": {
            "text/html": [
              "<div>\n",
              "<style scoped>\n",
              "    .dataframe tbody tr th:only-of-type {\n",
              "        vertical-align: middle;\n",
              "    }\n",
              "\n",
              "    .dataframe tbody tr th {\n",
              "        vertical-align: top;\n",
              "    }\n",
              "\n",
              "    .dataframe thead th {\n",
              "        text-align: right;\n",
              "    }\n",
              "</style>\n",
              "<table border=\"1\" class=\"dataframe\">\n",
              "  <thead>\n",
              "    <tr style=\"text-align: right;\">\n",
              "      <th></th>\n",
              "      <th>High</th>\n",
              "      <th>Low</th>\n",
              "      <th>Open</th>\n",
              "      <th>Close</th>\n",
              "      <th>Volume</th>\n",
              "      <th>Adj Close</th>\n",
              "    </tr>\n",
              "    <tr>\n",
              "      <th>Date</th>\n",
              "      <th></th>\n",
              "      <th></th>\n",
              "      <th></th>\n",
              "      <th></th>\n",
              "      <th></th>\n",
              "      <th></th>\n",
              "    </tr>\n",
              "  </thead>\n",
              "  <tbody>\n",
              "    <tr>\n",
              "      <th>2012-01-03</th>\n",
              "      <td>58.928570</td>\n",
              "      <td>58.428570</td>\n",
              "      <td>58.485714</td>\n",
              "      <td>58.747143</td>\n",
              "      <td>75555200.0</td>\n",
              "      <td>51.115936</td>\n",
              "    </tr>\n",
              "    <tr>\n",
              "      <th>2012-01-04</th>\n",
              "      <td>59.240002</td>\n",
              "      <td>58.468571</td>\n",
              "      <td>58.571430</td>\n",
              "      <td>59.062859</td>\n",
              "      <td>65005500.0</td>\n",
              "      <td>51.390648</td>\n",
              "    </tr>\n",
              "    <tr>\n",
              "      <th>2012-01-05</th>\n",
              "      <td>59.792858</td>\n",
              "      <td>58.952858</td>\n",
              "      <td>59.278572</td>\n",
              "      <td>59.718571</td>\n",
              "      <td>67817400.0</td>\n",
              "      <td>51.961189</td>\n",
              "    </tr>\n",
              "    <tr>\n",
              "      <th>2012-01-06</th>\n",
              "      <td>60.392857</td>\n",
              "      <td>59.888573</td>\n",
              "      <td>59.967144</td>\n",
              "      <td>60.342857</td>\n",
              "      <td>79573200.0</td>\n",
              "      <td>52.504375</td>\n",
              "    </tr>\n",
              "    <tr>\n",
              "      <th>2012-01-09</th>\n",
              "      <td>61.107143</td>\n",
              "      <td>60.192856</td>\n",
              "      <td>60.785713</td>\n",
              "      <td>60.247143</td>\n",
              "      <td>98506100.0</td>\n",
              "      <td>52.421093</td>\n",
              "    </tr>\n",
              "    <tr>\n",
              "      <th>...</th>\n",
              "      <td>...</td>\n",
              "      <td>...</td>\n",
              "      <td>...</td>\n",
              "      <td>...</td>\n",
              "      <td>...</td>\n",
              "      <td>...</td>\n",
              "    </tr>\n",
              "    <tr>\n",
              "      <th>2019-12-11</th>\n",
              "      <td>271.100006</td>\n",
              "      <td>268.500000</td>\n",
              "      <td>268.809998</td>\n",
              "      <td>270.769989</td>\n",
              "      <td>19689200.0</td>\n",
              "      <td>270.769989</td>\n",
              "    </tr>\n",
              "    <tr>\n",
              "      <th>2019-12-12</th>\n",
              "      <td>272.559998</td>\n",
              "      <td>267.320007</td>\n",
              "      <td>267.779999</td>\n",
              "      <td>271.459991</td>\n",
              "      <td>34327600.0</td>\n",
              "      <td>271.459991</td>\n",
              "    </tr>\n",
              "    <tr>\n",
              "      <th>2019-12-13</th>\n",
              "      <td>275.299988</td>\n",
              "      <td>270.929993</td>\n",
              "      <td>271.459991</td>\n",
              "      <td>275.149994</td>\n",
              "      <td>33396900.0</td>\n",
              "      <td>275.149994</td>\n",
              "    </tr>\n",
              "    <tr>\n",
              "      <th>2019-12-16</th>\n",
              "      <td>280.790009</td>\n",
              "      <td>276.980011</td>\n",
              "      <td>277.000000</td>\n",
              "      <td>279.859985</td>\n",
              "      <td>32046500.0</td>\n",
              "      <td>279.859985</td>\n",
              "    </tr>\n",
              "    <tr>\n",
              "      <th>2019-12-17</th>\n",
              "      <td>281.769989</td>\n",
              "      <td>278.799988</td>\n",
              "      <td>279.570007</td>\n",
              "      <td>280.410004</td>\n",
              "      <td>28539600.0</td>\n",
              "      <td>280.410004</td>\n",
              "    </tr>\n",
              "  </tbody>\n",
              "</table>\n",
              "<p>2003 rows × 6 columns</p>\n",
              "</div>"
            ],
            "text/plain": [
              "                  High         Low  ...      Volume   Adj Close\n",
              "Date                                ...                        \n",
              "2012-01-03   58.928570   58.428570  ...  75555200.0   51.115936\n",
              "2012-01-04   59.240002   58.468571  ...  65005500.0   51.390648\n",
              "2012-01-05   59.792858   58.952858  ...  67817400.0   51.961189\n",
              "2012-01-06   60.392857   59.888573  ...  79573200.0   52.504375\n",
              "2012-01-09   61.107143   60.192856  ...  98506100.0   52.421093\n",
              "...                ...         ...  ...         ...         ...\n",
              "2019-12-11  271.100006  268.500000  ...  19689200.0  270.769989\n",
              "2019-12-12  272.559998  267.320007  ...  34327600.0  271.459991\n",
              "2019-12-13  275.299988  270.929993  ...  33396900.0  275.149994\n",
              "2019-12-16  280.790009  276.980011  ...  32046500.0  279.859985\n",
              "2019-12-17  281.769989  278.799988  ...  28539600.0  280.410004\n",
              "\n",
              "[2003 rows x 6 columns]"
            ]
          },
          "metadata": {
            "tags": []
          },
          "execution_count": 5
        }
      ]
    },
    {
      "cell_type": "code",
      "metadata": {
        "id": "UZSuyt0Ll7bU",
        "colab_type": "code",
        "colab": {
          "base_uri": "https://localhost:8080/",
          "height": 34
        },
        "outputId": "1880d54e-78da-471e-ed68-b2234575a929"
      },
      "source": [
        "#Get the number of rows and columns in the data set\n",
        "df.shape\n"
      ],
      "execution_count": 6,
      "outputs": [
        {
          "output_type": "execute_result",
          "data": {
            "text/plain": [
              "(2003, 6)"
            ]
          },
          "metadata": {
            "tags": []
          },
          "execution_count": 6
        }
      ]
    },
    {
      "cell_type": "code",
      "metadata": {
        "id": "qvuaFLcwl-dZ",
        "colab_type": "code",
        "colab": {
          "base_uri": "https://localhost:8080/",
          "height": 678
        },
        "outputId": "6e5b6119-393b-4f7c-8692-4c6b594f9d13"
      },
      "source": [
        "#Visualize the closing price history\n",
        "plt.figure(figsize=(16,8))\n",
        "plt.title('Close Price History')\n",
        "plt.plot(df['Close'])\n",
        "plt.xlabel('Date', fontsize=18)\n",
        "plt.ylabel('Close Price USD ($)', fontsize=18)\n",
        "plt.show()"
      ],
      "execution_count": 7,
      "outputs": [
        {
          "output_type": "stream",
          "text": [
            "/usr/local/lib/python3.6/dist-packages/pandas/plotting/_matplotlib/converter.py:103: FutureWarning: Using an implicitly registered datetime converter for a matplotlib plotting method. The converter was registered by pandas on import. Future versions of pandas will require you to explicitly register matplotlib converters.\n",
            "\n",
            "To register the converters:\n",
            "\t>>> from pandas.plotting import register_matplotlib_converters\n",
            "\t>>> register_matplotlib_converters()\n",
            "  warnings.warn(msg, FutureWarning)\n"
          ],
          "name": "stderr"
        },
        {
          "output_type": "display_data",
          "data": {
            "image/png": "[encoded data removed]",
            "text/plain": [
              "<Figure size 1152x576 with 1 Axes>"
            ]
          },
          "metadata": {
            "tags": []
          }
        }
      ]
    },
    {
      "cell_type": "code",
      "metadata": {
        "id": "WaHKX8J-moYu",
        "colab_type": "code",
        "colab": {
          "base_uri": "https://localhost:8080/",
          "height": 34
        },
        "outputId": "65a56d0e-6d9e-41bb-f5bb-b23c365d9d94"
      },
      "source": [
        "#Create a new dataframe with only the 'Close column\n",
        "data = df.filter(['Close'])\n",
        "#Convert the dataframe to a numpy array\n",
        "dataset = data.values\n",
        "#Get the number of rows to train the model on\n",
        "training_data_len = math.ceil( len(dataset) * .8 )\n",
        "\n",
        "training_data_len"
      ],
      "execution_count": 8,
      "outputs": [
        {
          "output_type": "execute_result",
          "data": {
            "text/plain": [
              "1603"
            ]
          },
          "metadata": {
            "tags": []
          },
          "execution_count": 8
        }
      ]
    },
    {
      "cell_type": "code",
      "metadata": {
        "id": "Ey9xxVTymuGu",
        "colab_type": "code",
        "colab": {
          "base_uri": "https://localhost:8080/",
          "height": 134
        },
        "outputId": "dbfa009b-375b-4403-d151-f1611aca3ac5"
      },
      "source": [
        "#Scale the data\n",
        "scaler = MinMaxScaler(feature_range=(0,1))\n",
        "scaled_data = scaler.fit_transform(dataset)\n",
        "\n",
        "scaled_data\n"
      ],
      "execution_count": 9,
      "outputs": [
        {
          "output_type": "execute_result",
          "data": {
            "text/plain": [
              "array([[0.01316509],\n",
              "       [0.01457064],\n",
              "       [0.01748985],\n",
              "       ...,\n",
              "       [0.97658263],\n",
              "       [0.99755134],\n",
              "       [1.        ]])"
            ]
          },
          "metadata": {
            "tags": []
          },
          "execution_count": 9
        }
      ]
    },
    {
      "cell_type": "code",
      "metadata": {
        "id": "-_pA80oSnJo5",
        "colab_type": "code",
        "colab": {
          "base_uri": "https://localhost:8080/",
          "height": 672
        },
        "outputId": "bc02c081-3bb6-4dc3-b76e-af11fcfef7b0"
      },
      "source": [
        "#Create the training data set\n",
        "#Create the scaled training data set\n",
        "train_data = scaled_data[0:training_data_len , :]\n",
        "#Split the data into x_train and y_train data sets\n",
        "x_train = []\n",
        "y_train = []\n",
        "\n",
        "for i in range(60, len(train_data)):\n",
        "  x_train.append(train_data[i-60:i, 0])\n",
        "  y_train.append(train_data[i, 0])\n",
        "  if i<= 61:\n",
        "    print(x_train)\n",
        "    print(y_train)\n",
        "    print()"
      ],
      "execution_count": 10,
      "outputs": [
        {
          "output_type": "stream",
          "text": [
            "[array([0.01316509, 0.01457064, 0.01748985, 0.02026915, 0.01984303,\n",
            "       0.02080338, 0.02036454, 0.01962679, 0.01862193, 0.02173194,\n",
            "       0.02453668, 0.02367172, 0.01893356, 0.02345548, 0.01900352,\n",
            "       0.03569838, 0.03440731, 0.0360927 , 0.03973694, 0.04194384,\n",
            "       0.0417594 , 0.0410789 , 0.04397903, 0.04670744, 0.04979839,\n",
            "       0.05479095, 0.0652785 , 0.06543749, 0.07127594, 0.07563885,\n",
            "       0.06814046, 0.07102789, 0.07097066, 0.07906688, 0.07791571,\n",
            "       0.08004628, 0.08387497, 0.08600558, 0.09214292, 0.09661397,\n",
            "       0.09790501, 0.09835659, 0.09071194, 0.08886753, 0.08914103,\n",
            "       0.09632775, 0.09835024, 0.10269405, 0.11293358, 0.12659476,\n",
            "       0.12403805, 0.1240444 , 0.13392141, 0.13701233, 0.13481179,\n",
            "       0.13280207, 0.13070964, 0.13766105, 0.14243103, 0.14442805])]\n",
            "[0.13949272033425864]\n",
            "\n",
            "[array([0.01316509, 0.01457064, 0.01748985, 0.02026915, 0.01984303,\n",
            "       0.02080338, 0.02036454, 0.01962679, 0.01862193, 0.02173194,\n",
            "       0.02453668, 0.02367172, 0.01893356, 0.02345548, 0.01900352,\n",
            "       0.03569838, 0.03440731, 0.0360927 , 0.03973694, 0.04194384,\n",
            "       0.0417594 , 0.0410789 , 0.04397903, 0.04670744, 0.04979839,\n",
            "       0.05479095, 0.0652785 , 0.06543749, 0.07127594, 0.07563885,\n",
            "       0.06814046, 0.07102789, 0.07097066, 0.07906688, 0.07791571,\n",
            "       0.08004628, 0.08387497, 0.08600558, 0.09214292, 0.09661397,\n",
            "       0.09790501, 0.09835659, 0.09071194, 0.08886753, 0.08914103,\n",
            "       0.09632775, 0.09835024, 0.10269405, 0.11293358, 0.12659476,\n",
            "       0.12403805, 0.1240444 , 0.13392141, 0.13701233, 0.13481179,\n",
            "       0.13280207, 0.13070964, 0.13766105, 0.14243103, 0.14442805]), array([0.01457064, 0.01748985, 0.02026915, 0.01984303, 0.02080338,\n",
            "       0.02036454, 0.01962679, 0.01862193, 0.02173194, 0.02453668,\n",
            "       0.02367172, 0.01893356, 0.02345548, 0.01900352, 0.03569838,\n",
            "       0.03440731, 0.0360927 , 0.03973694, 0.04194384, 0.0417594 ,\n",
            "       0.0410789 , 0.04397903, 0.04670744, 0.04979839, 0.05479095,\n",
            "       0.0652785 , 0.06543749, 0.07127594, 0.07563885, 0.06814046,\n",
            "       0.07102789, 0.07097066, 0.07906688, 0.07791571, 0.08004628,\n",
            "       0.08387497, 0.08600558, 0.09214292, 0.09661397, 0.09790501,\n",
            "       0.09835659, 0.09071194, 0.08886753, 0.08914103, 0.09632775,\n",
            "       0.09835024, 0.10269405, 0.11293358, 0.12659476, 0.12403805,\n",
            "       0.1240444 , 0.13392141, 0.13701233, 0.13481179, 0.13280207,\n",
            "       0.13070964, 0.13766105, 0.14243103, 0.14442805, 0.13949272])]\n",
            "[0.13949272033425864, 0.13293562570222134]\n",
            "\n"
          ],
          "name": "stdout"
        }
      ]
    },
    {
      "cell_type": "code",
      "metadata": {
        "id": "0A9ijbIMnT6A",
        "colab_type": "code",
        "colab": {}
      },
      "source": [
        "#Convert the x_train and y_train to numpy arrays \n",
        "x_train, y_train = np.array(x_train), np.array(y_train)"
      ],
      "execution_count": 0,
      "outputs": []
    },
    {
      "cell_type": "code",
      "metadata": {
        "id": "mLU0d-xDnY32",
        "colab_type": "code",
        "colab": {
          "base_uri": "https://localhost:8080/",
          "height": 34
        },
        "outputId": "75792bbe-6d96-4674-92a0-8f5a612c1913"
      },
      "source": [
        "#Reshape the data\n",
        "x_train = np.reshape(x_train, (x_train.shape[0], x_train.shape[1], 1))\n",
        "x_train.shape"
      ],
      "execution_count": 13,
      "outputs": [
        {
          "output_type": "execute_result",
          "data": {
            "text/plain": [
              "(1543, 60, 1)"
            ]
          },
          "metadata": {
            "tags": []
          },
          "execution_count": 13
        }
      ]
    },
    {
      "cell_type": "code",
      "metadata": {
        "id": "vM4FFGQDnd8v",
        "colab_type": "code",
        "colab": {
          "base_uri": "https://localhost:8080/",
          "height": 138
        },
        "outputId": "a76178ca-80fd-43dc-8b6b-f8b9ba3fc456"
      },
      "source": [
        "#Build the LSTM model\n",
        "model = Sequential()\n",
        "model.add(LSTM(50, return_sequences=True, input_shape= (x_train.shape[1], 1)))\n",
        "model.add(LSTM(50, return_sequences= False))\n",
        "model.add(Dense(25))\n",
        "model.add(Dense(1))"
      ],
      "execution_count": 14,
      "outputs": [
        {
          "output_type": "stream",
          "text": [
            "WARNING:tensorflow:From /usr/local/lib/python3.6/dist-packages/keras/backend/tensorflow_backend.py:66: The name tf.get_default_graph is deprecated. Please use tf.compat.v1.get_default_graph instead.\n",
            "\n",
            "WARNING:tensorflow:From /usr/local/lib/python3.6/dist-packages/keras/backend/tensorflow_backend.py:541: The name tf.placeholder is deprecated. Please use tf.compat.v1.placeholder instead.\n",
            "\n",
            "WARNING:tensorflow:From /usr/local/lib/python3.6/dist-packages/keras/backend/tensorflow_backend.py:4432: The name tf.random_uniform is deprecated. Please use tf.random.uniform instead.\n",
            "\n"
          ],
          "name": "stdout"
        }
      ]
    },
    {
      "cell_type": "code",
      "metadata": {
        "id": "rd-wA9k8nlax",
        "colab_type": "code",
        "colab": {
          "base_uri": "https://localhost:8080/",
          "height": 50
        },
        "outputId": "dcf3c972-34f8-4739-ed1b-7a47e06d1d48"
      },
      "source": [
        "#Compile the model\n",
        "model.compile(optimizer='adam', loss='mean_squared_error')"
      ],
      "execution_count": 15,
      "outputs": [
        {
          "output_type": "stream",
          "text": [
            "WARNING:tensorflow:From /usr/local/lib/python3.6/dist-packages/keras/optimizers.py:793: The name tf.train.Optimizer is deprecated. Please use tf.compat.v1.train.Optimizer instead.\n",
            "\n"
          ],
          "name": "stdout"
        }
      ]
    },
    {
      "cell_type": "code",
      "metadata": {
        "id": "t4XeI243nroc",
        "colab_type": "code",
        "colab": {
          "base_uri": "https://localhost:8080/",
          "height": 406
        },
        "outputId": "b46a0c12-8d93-43a4-88af-ade23b1b7f7e"
      },
      "source": [
        "#Train the model\n",
        "model.fit(x_train, y_train, batch_size=1, epochs=1)\n"
      ],
      "execution_count": 16,
      "outputs": [
        {
          "output_type": "stream",
          "text": [
            "WARNING:tensorflow:From /usr/local/lib/python3.6/dist-packages/tensorflow_core/python/ops/math_grad.py:1424: where (from tensorflow.python.ops.array_ops) is deprecated and will be removed in a future version.\n",
            "Instructions for updating:\n",
            "Use tf.where in 2.0, which has the same broadcast rule as np.where\n",
            "WARNING:tensorflow:From /usr/local/lib/python3.6/dist-packages/keras/backend/tensorflow_backend.py:1033: The name tf.assign_add is deprecated. Please use tf.compat.v1.assign_add instead.\n",
            "\n",
            "WARNING:tensorflow:From /usr/local/lib/python3.6/dist-packages/keras/backend/tensorflow_backend.py:1020: The name tf.assign is deprecated. Please use tf.compat.v1.assign instead.\n",
            "\n",
            "WARNING:tensorflow:From /usr/local/lib/python3.6/dist-packages/keras/backend/tensorflow_backend.py:3005: The name tf.Session is deprecated. Please use tf.compat.v1.Session instead.\n",
            "\n",
            "Epoch 1/1\n",
            "WARNING:tensorflow:From /usr/local/lib/python3.6/dist-packages/keras/backend/tensorflow_backend.py:190: The name tf.get_default_session is deprecated. Please use tf.compat.v1.get_default_session instead.\n",
            "\n",
            "WARNING:tensorflow:From /usr/local/lib/python3.6/dist-packages/keras/backend/tensorflow_backend.py:197: The name tf.ConfigProto is deprecated. Please use tf.compat.v1.ConfigProto instead.\n",
            "\n",
            "WARNING:tensorflow:From /usr/local/lib/python3.6/dist-packages/keras/backend/tensorflow_backend.py:207: The name tf.global_variables is deprecated. Please use tf.compat.v1.global_variables instead.\n",
            "\n",
            "WARNING:tensorflow:From /usr/local/lib/python3.6/dist-packages/keras/backend/tensorflow_backend.py:216: The name tf.is_variable_initialized is deprecated. Please use tf.compat.v1.is_variable_initialized instead.\n",
            "\n",
            "WARNING:tensorflow:From /usr/local/lib/python3.6/dist-packages/keras/backend/tensorflow_backend.py:223: The name tf.variables_initializer is deprecated. Please use tf.compat.v1.variables_initializer instead.\n",
            "\n",
            "1543/1543 [==============================] - 116s 75ms/step - loss: 8.7943e-04\n"
          ],
          "name": "stdout"
        },
        {
          "output_type": "execute_result",
          "data": {
            "text/plain": [
              "<keras.callbacks.History at 0x7fbb05a29f98>"
            ]
          },
          "metadata": {
            "tags": []
          },
          "execution_count": 16
        }
      ]
    },
    {
      "cell_type": "code",
      "metadata": {
        "id": "l1Jz_76XoAOz",
        "colab_type": "code",
        "colab": {}
      },
      "source": [
        "#Create the testing data set\n",
        "#Create a new array containing scaled values from index 1543 to 2002 \n",
        "test_data = scaled_data[training_data_len - 60: , :]\n",
        "#Create the data sets x_test and y_test\n",
        "x_test = []\n",
        "y_test = dataset[training_data_len:, :]\n",
        "for i in range(60, len(test_data)):\n",
        "  x_test.append(test_data[i-60:i, 0])"
      ],
      "execution_count": 0,
      "outputs": []
    },
    {
      "cell_type": "code",
      "metadata": {
        "id": "XPvi6z2zpIcW",
        "colab_type": "code",
        "colab": {}
      },
      "source": [
        "#Convert the data to a numpy array\n",
        "x_test = np.array(x_test)\n"
      ],
      "execution_count": 0,
      "outputs": []
    },
    {
      "cell_type": "code",
      "metadata": {
        "id": "uLh14DscpNJ9",
        "colab_type": "code",
        "colab": {}
      },
      "source": [
        "#Reshape the data\n",
        "x_test = np.reshape(x_test, (x_test.shape[0], x_test.shape[1], 1 ))"
      ],
      "execution_count": 0,
      "outputs": []
    },
    {
      "cell_type": "code",
      "metadata": {
        "id": "Fz-LhFNppTVK",
        "colab_type": "code",
        "colab": {}
      },
      "source": [
        "#Get the models predicted price values \n",
        "predictions = model.predict(x_test)\n",
        "predictions = scaler.inverse_transform(predictions)"
      ],
      "execution_count": 0,
      "outputs": []
    },
    {
      "cell_type": "code",
      "metadata": {
        "id": "DWUQ5Q5PpYCs",
        "colab_type": "code",
        "colab": {
          "base_uri": "https://localhost:8080/",
          "height": 34
        },
        "outputId": "4732c9fc-cea5-4f85-a6d6-d3ebcc1a09af"
      },
      "source": [
        "#Get the root mean squared error (RMSE)\n",
        "rmse=np.sqrt(np.mean(((predictions- y_test)**2)))\n",
        "rmse"
      ],
      "execution_count": 22,
      "outputs": [
        {
          "output_type": "execute_result",
          "data": {
            "text/plain": [
              "5.84091760188206"
            ]
          },
          "metadata": {
            "tags": []
          },
          "execution_count": 22
        }
      ]
    },
    {
      "cell_type": "code",
      "metadata": {
        "id": "SVlhoduLqkA1",
        "colab_type": "code",
        "colab": {
          "base_uri": "https://localhost:8080/",
          "height": 658
        },
        "outputId": "05298d00-9cc1-46c0-dae9-57ab0d527139"
      },
      "source": [
        "#Plot the data\n",
        "train = data[:training_data_len]\n",
        "valid = data[training_data_len:]\n",
        "valid['Predictions'] = predictions\n",
        "#Visualize the data\n",
        "plt.figure(figsize=(16,8))\n",
        "plt.title('Model')\n",
        "plt.xlabel('Date', fontsize=18)\n",
        "plt.ylabel('Close Price USD ($)', fontsize=18)\n",
        "plt.plot(train['Close'])\n",
        "plt.plot(valid[['Close', 'Predictions']])\n",
        "plt.legend(['Train', 'Val', 'Predictions'], loc='lower right')\n",
        "plt.show()"
      ],
      "execution_count": 23,
      "outputs": [
        {
          "output_type": "stream",
          "text": [
            "/usr/local/lib/python3.6/dist-packages/ipykernel_launcher.py:3: SettingWithCopyWarning: \n",
            "A value is trying to be set on a copy of a slice from a DataFrame.\n",
            "Try using .loc[row_indexer,col_indexer] = value instead\n",
            "\n",
            "See the caveats in the documentation: http://pandas.pydata.org/pandas-docs/stable/user_guide/indexing.html#returning-a-view-versus-a-copy\n",
            "  This is separate from the ipykernel package so we can avoid doing imports until\n"
          ],
          "name": "stderr"
        },
        {
          "output_type": "display_data",
          "data": {
            "image/png": "[encoded data removed]",
            "text/plain": [
              "<Figure size 1152x576 with 1 Axes>"
            ]
          },
          "metadata": {
            "tags": []
          }
        }
      ]
    },
    {
      "cell_type": "code",
      "metadata": {
        "id": "vAKsaesmqySp",
        "colab_type": "code",
        "colab": {
          "base_uri": "https://localhost:8080/",
          "height": 431
        },
        "outputId": "69222247-88e0-48e8-b6b8-1e6103b0d9c9"
      },
      "source": [
        "#Show the valid and predicted prices\n",
        "valid"
      ],
      "execution_count": 24,
      "outputs": [
        {
          "output_type": "execute_result",
          "data": {
            "text/html": [
              "<div>\n",
              "<style scoped>\n",
              "    .dataframe tbody tr th:only-of-type {\n",
              "        vertical-align: middle;\n",
              "    }\n",
              "\n",
              "    .dataframe tbody tr th {\n",
              "        vertical-align: top;\n",
              "    }\n",
              "\n",
              "    .dataframe thead th {\n",
              "        text-align: right;\n",
              "    }\n",
              "</style>\n",
              "<table border=\"1\" class=\"dataframe\">\n",
              "  <thead>\n",
              "    <tr style=\"text-align: right;\">\n",
              "      <th></th>\n",
              "      <th>Close</th>\n",
              "      <th>Predictions</th>\n",
              "    </tr>\n",
              "    <tr>\n",
              "      <th>Date</th>\n",
              "      <th></th>\n",
              "      <th></th>\n",
              "    </tr>\n",
              "  </thead>\n",
              "  <tbody>\n",
              "    <tr>\n",
              "      <th>2018-05-17</th>\n",
              "      <td>186.990005</td>\n",
              "      <td>186.595917</td>\n",
              "    </tr>\n",
              "    <tr>\n",
              "      <th>2018-05-18</th>\n",
              "      <td>186.309998</td>\n",
              "      <td>186.765060</td>\n",
              "    </tr>\n",
              "    <tr>\n",
              "      <th>2018-05-21</th>\n",
              "      <td>187.630005</td>\n",
              "      <td>186.679047</td>\n",
              "    </tr>\n",
              "    <tr>\n",
              "      <th>2018-05-22</th>\n",
              "      <td>187.160004</td>\n",
              "      <td>186.651657</td>\n",
              "    </tr>\n",
              "    <tr>\n",
              "      <th>2018-05-23</th>\n",
              "      <td>188.360001</td>\n",
              "      <td>186.590729</td>\n",
              "    </tr>\n",
              "    <tr>\n",
              "      <th>...</th>\n",
              "      <td>...</td>\n",
              "      <td>...</td>\n",
              "    </tr>\n",
              "    <tr>\n",
              "      <th>2019-12-11</th>\n",
              "      <td>270.769989</td>\n",
              "      <td>262.760620</td>\n",
              "    </tr>\n",
              "    <tr>\n",
              "      <th>2019-12-12</th>\n",
              "      <td>271.459991</td>\n",
              "      <td>263.687897</td>\n",
              "    </tr>\n",
              "    <tr>\n",
              "      <th>2019-12-13</th>\n",
              "      <td>275.149994</td>\n",
              "      <td>264.669617</td>\n",
              "    </tr>\n",
              "    <tr>\n",
              "      <th>2019-12-16</th>\n",
              "      <td>279.859985</td>\n",
              "      <td>266.026611</td>\n",
              "    </tr>\n",
              "    <tr>\n",
              "      <th>2019-12-17</th>\n",
              "      <td>280.410004</td>\n",
              "      <td>267.968567</td>\n",
              "    </tr>\n",
              "  </tbody>\n",
              "</table>\n",
              "<p>400 rows × 2 columns</p>\n",
              "</div>"
            ],
            "text/plain": [
              "                 Close  Predictions\n",
              "Date                               \n",
              "2018-05-17  186.990005   186.595917\n",
              "2018-05-18  186.309998   186.765060\n",
              "2018-05-21  187.630005   186.679047\n",
              "2018-05-22  187.160004   186.651657\n",
              "2018-05-23  188.360001   186.590729\n",
              "...                ...          ...\n",
              "2019-12-11  270.769989   262.760620\n",
              "2019-12-12  271.459991   263.687897\n",
              "2019-12-13  275.149994   264.669617\n",
              "2019-12-16  279.859985   266.026611\n",
              "2019-12-17  280.410004   267.968567\n",
              "\n",
              "[400 rows x 2 columns]"
            ]
          },
          "metadata": {
            "tags": []
          },
          "execution_count": 24
        }
      ]
    },
    {
      "cell_type": "code",
      "metadata": {
        "id": "kujz1sm_q9jN",
        "colab_type": "code",
        "colab": {
          "base_uri": "https://localhost:8080/",
          "height": 34
        },
        "outputId": "504f7395-1925-471a-b6c1-2fb53d4d5b88"
      },
      "source": [
        "#Get the quote\n",
        "apple_quote = web.DataReader('AAPL', data_source='yahoo', start='2012-01-01', end='2019-12-17')\n",
        "#Create a new dataframe\n",
        "new_df = apple_quote.filter(['Close'])\n",
        "#Get teh last 60 day closing price values and convert the dataframe to an array\n",
        "last_60_days = new_df[-60:].values\n",
        "#Scale the data to be values between 0 and 1\n",
        "last_60_days_scaled = scaler.transform(last_60_days)\n",
        "#Create an empty list\n",
        "X_test = []\n",
        "#Append teh past 60 days\n",
        "X_test.append(last_60_days_scaled)\n",
        "#Convert the X_test data set to a numpy array\n",
        "X_test = np.array(X_test)\n",
        "#Reshape the data\n",
        "X_test = np.reshape(X_test, (X_test.shape[0], X_test.shape[1], 1))\n",
        "#Get the predicted scaled price\n",
        "pred_price = model.predict(X_test)\n",
        "#undo the scaling \n",
        "pred_price = scaler.inverse_transform(pred_price)\n",
        "print(pred_price)\n"
      ],
      "execution_count": 25,
      "outputs": [
        {
          "output_type": "stream",
          "text": [
            "[[269.96512]]\n"
          ],
          "name": "stdout"
        }
      ]
    },
    {
      "cell_type": "code",
      "metadata": {
        "id": "2qhE7QJxrLY-",
        "colab_type": "code",
        "colab": {
          "base_uri": "https://localhost:8080/",
          "height": 67
        },
        "outputId": "ac224589-7181-4a1f-b921-4260105da91a"
      },
      "source": [
        "#Get the quote\n",
        "apple_quote2 = web.DataReader('AAPL', data_source='yahoo', start='2019-12-18', end='2019-12-18')\n",
        "print(apple_quote2['Close'])"
      ],
      "execution_count": 26,
      "outputs": [
        {
          "output_type": "stream",
          "text": [
            "Date\n",
            "2019-12-18    279.73999\n",
            "Name: Close, dtype: float64\n"
          ],
          "name": "stdout"
        }
      ]
    }
  ]
}